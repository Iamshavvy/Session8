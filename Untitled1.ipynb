{
 "cells": [
  {
   "cell_type": "code",
   "execution_count": 27,
   "id": "81137575",
   "metadata": {},
   "outputs": [
    {
     "name": "stdout",
     "output_type": "stream",
     "text": [
      "2 32 3 5 4 6 1 109 2 100 5 6 -1\n",
      "[2, 32, 3, 5, 4, 6, 1, 109, 2, 100, 5, 6]\n",
      "[32]\n",
      "[32]\n",
      "[]\n",
      "-1\n",
      "[]\n",
      "-1\n",
      "[]\n",
      "-1\n",
      "[]\n",
      "[109]\n",
      "[109]\n",
      "[109, 100]\n",
      "[109, 100]\n",
      "109\n",
      "[109, 100]\n",
      "100\n",
      "[109, 100]\n"
     ]
    }
   ],
   "source": [
    "from os import *\n",
    "from sys import *\n",
    "from collections import *\n",
    "from math import *\n",
    "\n",
    "from os import *\n",
    "from sys import *\n",
    "from collections import *\n",
    "from math import *\n",
    "\n",
    "from os import *\n",
    "from sys import *\n",
    "from collections import *\n",
    "from math import *\n",
    "\n",
    "from os import *\n",
    "from sys import *\n",
    "from collections import *\n",
    "from math import *\n",
    "\n",
    "from os import *\n",
    "from sys import *\n",
    "from collections import *\n",
    "from math import *\n",
    "\n",
    "## Read input as specified in the question.\n",
    "## Print output as specified in the question.\n",
    "def insertFront(s,data):\n",
    "    if len(s)<=10:\n",
    "        s.insert(0,data)\n",
    "    else:\n",
    "        return -1\n",
    "\n",
    "def insertRear(s,data):\n",
    "    if len(s)<=10:\n",
    "        s.append(data)\n",
    "    else:\n",
    "        return -1\n",
    "\n",
    "def deleteFront(s):\n",
    "    if len(s)==0:\n",
    "        return -1\n",
    "    else:\n",
    "        s.pop(0)\n",
    "\n",
    "def deleteRear(s):\n",
    "    if len(s)==0:\n",
    "        print(-1)\n",
    "    else:\n",
    "        s.pop()\n",
    "\n",
    "def getFront(s):\n",
    "    if len(s)==0:\n",
    "        return -1\n",
    "    else:\n",
    "        return s[0]\n",
    "\n",
    "def getRear(s):\n",
    "    if len(s)==0:\n",
    "        return -1\n",
    "    else:\n",
    "        return s[-1]\n",
    "    \n",
    "\n",
    "string=input().split()\n",
    "ansst=[]\n",
    "for ch in string:\n",
    "    if int(ch)==-1:\n",
    "        break\n",
    "    else:\n",
    "        ansst.append(int(ch))\n",
    "print(ansst)\n",
    "doubansst=[]\n",
    "for i in range(len(ansst)):\n",
    "    if ansst[i]==6:\n",
    "        ele=getRear(doubansst)\n",
    "        print(ele)\n",
    "    elif ansst[i]==5:\n",
    "        ele=getFront(doubansst)\n",
    "        print(ele)\n",
    "    elif ansst[i]==4:\n",
    "        deleteRear(doubansst)\n",
    "    elif ansst[i]==3:\n",
    "        deleteFront(doubansst)\n",
    "    elif ansst[i]==2:\n",
    "        insertRear(doubansst,ansst[i+1])\n",
    "        i=i+2\n",
    "    elif ansst[i]==1:\n",
    "        insertFront(doubansst,ansst[i+1])\n",
    "        i=i+2\n",
    "    \n",
    "    print(doubansst)\n",
    "#print(doubansst)\n"
   ]
  },
  {
   "cell_type": "code",
   "execution_count": 1,
   "id": "ca93ac30",
   "metadata": {},
   "outputs": [],
   "source": [
    "import numpy as np"
   ]
  },
  {
   "cell_type": "code",
   "execution_count": 2,
   "id": "c15d6667",
   "metadata": {},
   "outputs": [],
   "source": [
    "import pandas as pd"
   ]
  },
  {
   "cell_type": "code",
   "execution_count": 3,
   "id": "6c247c59",
   "metadata": {},
   "outputs": [],
   "source": [
    "Xs = np.array([0.0339, 0.0423, 0.213, 0.257, 0.273, 0.273, 0.450, 0.503, 0.503, \\\n",
    "0.637, 0.805, 0.904, 0.904, 0.910, 0.910, 1.02, 1.11, 1.11, 1.41, \\\n",
    "1.72, 2.03, 2.02, 2.02, 2.02])"
   ]
  },
  {
   "cell_type": "code",
   "execution_count": 7,
   "id": "53f164d2",
   "metadata": {},
   "outputs": [
    {
     "data": {
      "text/plain": [
       "0.9199250000000001"
      ]
     },
     "execution_count": 7,
     "metadata": {},
     "output_type": "execute_result"
    }
   ],
   "source": [
    "np.sum(Xs)/24"
   ]
  },
  {
   "cell_type": "code",
   "execution_count": 8,
   "id": "9230aad8",
   "metadata": {},
   "outputs": [],
   "source": [
    "Ys = np.array([-19.3, 30.4, 38.7, 5.52, -33.1, -77.3, 398.0, 406.0, 436.0, 320.0, 373.0, \\\n",
    "93.9, 210.0, 423.0, 594.0, 829.0, 718.0, 561.0, 608.0, 1.04E3, 1.10E3, \\\n",
    "840.0, 801.0, 519.0])"
   ]
  },
  {
   "cell_type": "code",
   "execution_count": 9,
   "id": "8fad25e6",
   "metadata": {},
   "outputs": [
    {
     "data": {
      "text/plain": [
       "425.6175"
      ]
     },
     "execution_count": 9,
     "metadata": {},
     "output_type": "execute_result"
    }
   ],
   "source": [
    "np.mean(Ys)"
   ]
  },
  {
   "cell_type": "code",
   "execution_count": 11,
   "id": "cfada2a0",
   "metadata": {},
   "outputs": [
    {
     "data": {
      "text/plain": [
       "0.6396376045921106"
      ]
     },
     "execution_count": 11,
     "metadata": {},
     "output_type": "execute_result"
    }
   ],
   "source": [
    "np.std(Xs)"
   ]
  },
  {
   "cell_type": "code",
   "execution_count": 12,
   "id": "33017c31",
   "metadata": {},
   "outputs": [
    {
     "data": {
      "text/plain": [
       "341.39107395636944"
      ]
     },
     "execution_count": 12,
     "metadata": {},
     "output_type": "execute_result"
    }
   ],
   "source": [
    "np.std(Ys)"
   ]
  },
  {
   "cell_type": "code",
   "execution_count": 14,
   "id": "b5d2f0fe",
   "metadata": {},
   "outputs": [],
   "source": [
    "X1=Xs-np.mean(Xs)"
   ]
  },
  {
   "cell_type": "code",
   "execution_count": 16,
   "id": "549c9840",
   "metadata": {},
   "outputs": [
    {
     "data": {
      "text/plain": [
       "array([-0.886025, -0.877625, -0.706925, -0.662925, -0.646925, -0.646925,\n",
       "       -0.469925, -0.416925, -0.416925, -0.282925, -0.114925, -0.015925,\n",
       "       -0.015925, -0.009925, -0.009925,  0.100075,  0.190075,  0.190075,\n",
       "        0.490075,  0.800075,  1.110075,  1.100075,  1.100075,  1.100075])"
      ]
     },
     "execution_count": 16,
     "metadata": {},
     "output_type": "execute_result"
    }
   ],
   "source": [
    "X1"
   ]
  },
  {
   "cell_type": "code",
   "execution_count": 18,
   "id": "b92b2480",
   "metadata": {},
   "outputs": [
    {
     "data": {
      "text/plain": [
       "array([7.85040301e-01, 7.70225641e-01, 4.99742956e-01, 4.39469556e-01,\n",
       "       4.18511956e-01, 4.18511956e-01, 2.20829506e-01, 1.73826456e-01,\n",
       "       1.73826456e-01, 8.00465556e-02, 1.32077556e-02, 2.53605625e-04,\n",
       "       2.53605625e-04, 9.85056250e-05, 9.85056250e-05, 1.00150056e-02,\n",
       "       3.61285056e-02, 3.61285056e-02, 2.40173506e-01, 6.40120006e-01,\n",
       "       1.23226651e+00, 1.21016501e+00, 1.21016501e+00, 1.21016501e+00])"
      ]
     },
     "execution_count": 18,
     "metadata": {},
     "output_type": "execute_result"
    }
   ],
   "source": [
    "X1**2"
   ]
  },
  {
   "cell_type": "code",
   "execution_count": 19,
   "id": "49497645",
   "metadata": {},
   "outputs": [
    {
     "data": {
      "text/plain": [
       "9.819270365"
      ]
     },
     "execution_count": 19,
     "metadata": {},
     "output_type": "execute_result"
    }
   ],
   "source": [
    "np.sum(X1**2)"
   ]
  },
  {
   "cell_type": "code",
   "execution_count": 20,
   "id": "40a685cd",
   "metadata": {},
   "outputs": [
    {
     "data": {
      "text/plain": [
       "0.4091362652083333"
      ]
     },
     "execution_count": 20,
     "metadata": {},
     "output_type": "execute_result"
    }
   ],
   "source": [
    "9.819270365/24"
   ]
  },
  {
   "cell_type": "code",
   "execution_count": 22,
   "id": "a01e7b8b",
   "metadata": {},
   "outputs": [
    {
     "data": {
      "text/plain": [
       "0.6396376045921106"
      ]
     },
     "execution_count": 22,
     "metadata": {},
     "output_type": "execute_result"
    }
   ],
   "source": [
    "np.sqrt(0.4091362652083333)"
   ]
  },
  {
   "cell_type": "code",
   "execution_count": 23,
   "id": "cc2005f1",
   "metadata": {},
   "outputs": [],
   "source": [
    "Y1=Ys-np.mean(Ys)"
   ]
  },
  {
   "cell_type": "code",
   "execution_count": 24,
   "id": "616099bf",
   "metadata": {},
   "outputs": [
    {
     "data": {
      "text/plain": [
       "array([-444.9175, -395.2175, -386.9175, -420.0975, -458.7175, -502.9175,\n",
       "        -27.6175,  -19.6175,   10.3825, -105.6175,  -52.6175, -331.7175,\n",
       "       -215.6175,   -2.6175,  168.3825,  403.3825,  292.3825,  135.3825,\n",
       "        182.3825,  614.3825,  674.3825,  414.3825,  375.3825,   93.3825])"
      ]
     },
     "execution_count": 24,
     "metadata": {},
     "output_type": "execute_result"
    }
   ],
   "source": [
    "Y1"
   ]
  },
  {
   "cell_type": "code",
   "execution_count": 27,
   "id": "fe8328c4",
   "metadata": {},
   "outputs": [
    {
     "data": {
      "text/plain": [
       "2797148.76905"
      ]
     },
     "execution_count": 27,
     "metadata": {},
     "output_type": "execute_result"
    }
   ],
   "source": [
    "np.sum(Y1**2)"
   ]
  },
  {
   "cell_type": "code",
   "execution_count": 28,
   "id": "79131c0b",
   "metadata": {},
   "outputs": [
    {
     "data": {
      "text/plain": [
       "116547.86537708332"
      ]
     },
     "execution_count": 28,
     "metadata": {},
     "output_type": "execute_result"
    }
   ],
   "source": [
    "2797148.76905/24"
   ]
  },
  {
   "cell_type": "code",
   "execution_count": 29,
   "id": "1b7e8f93",
   "metadata": {},
   "outputs": [
    {
     "data": {
      "text/plain": [
       "341.39107395636944"
      ]
     },
     "execution_count": 29,
     "metadata": {},
     "output_type": "execute_result"
    }
   ],
   "source": [
    "np.sqrt(116547.86537708332)"
   ]
  },
  {
   "cell_type": "code",
   "execution_count": 30,
   "id": "43d015a3",
   "metadata": {},
   "outputs": [
    {
     "data": {
      "text/plain": [
       "array([-0.886025, -0.877625, -0.706925, -0.662925, -0.646925, -0.646925,\n",
       "       -0.469925, -0.416925, -0.416925, -0.282925, -0.114925, -0.015925,\n",
       "       -0.015925, -0.009925, -0.009925,  0.100075,  0.190075,  0.190075,\n",
       "        0.490075,  0.800075,  1.110075,  1.100075,  1.100075,  1.100075])"
      ]
     },
     "execution_count": 30,
     "metadata": {},
     "output_type": "execute_result"
    }
   ],
   "source": [
    "X1"
   ]
  },
  {
   "cell_type": "code",
   "execution_count": 31,
   "id": "1dd99fff",
   "metadata": {},
   "outputs": [
    {
     "data": {
      "text/plain": [
       "array([-444.9175, -395.2175, -386.9175, -420.0975, -458.7175, -502.9175,\n",
       "        -27.6175,  -19.6175,   10.3825, -105.6175,  -52.6175, -331.7175,\n",
       "       -215.6175,   -2.6175,  168.3825,  403.3825,  292.3825,  135.3825,\n",
       "        182.3825,  614.3825,  674.3825,  414.3825,  375.3825,   93.3825])"
      ]
     },
     "execution_count": 31,
     "metadata": {},
     "output_type": "execute_result"
    }
   ],
   "source": [
    "Y1"
   ]
  },
  {
   "cell_type": "code",
   "execution_count": 32,
   "id": "9a09a022",
   "metadata": {},
   "outputs": [
    {
     "data": {
      "text/plain": [
       "array([ 3.94208028e+02,  3.46852758e+02,  2.73521654e+02,  2.78493135e+02,\n",
       "        2.96755819e+02,  3.25349904e+02,  1.29781537e+01,  8.17902619e+00,\n",
       "       -4.32872381e+00,  2.98818312e+01,  6.04706619e+00,  5.28260119e+00,\n",
       "        3.43370869e+00,  2.59786875e-02, -1.67119631e+00,  4.03685037e+01,\n",
       "        5.55746037e+01,  2.57328287e+01,  8.93811037e+01,  4.91552079e+02,\n",
       "        7.48615154e+02,  4.55851829e+02,  4.12948904e+02,  1.02727754e+02])"
      ]
     },
     "execution_count": 32,
     "metadata": {},
     "output_type": "execute_result"
    }
   ],
   "source": [
    "X1*Y1"
   ]
  },
  {
   "cell_type": "code",
   "execution_count": 33,
   "id": "9db8b669",
   "metadata": {},
   "outputs": [
    {
     "data": {
      "text/plain": [
       "4397.762501499999"
      ]
     },
     "execution_count": 33,
     "metadata": {},
     "output_type": "execute_result"
    }
   ],
   "source": [
    "np.sum(X1*Y1)"
   ]
  },
  {
   "cell_type": "code",
   "execution_count": 34,
   "id": "14d15ac2",
   "metadata": {},
   "outputs": [
    {
     "data": {
      "text/plain": [
       "191.20706528260868"
      ]
     },
     "execution_count": 34,
     "metadata": {},
     "output_type": "execute_result"
    }
   ],
   "source": [
    "4397.762501499999/23"
   ]
  },
  {
   "cell_type": "code",
   "execution_count": 35,
   "id": "cd24d0e5",
   "metadata": {},
   "outputs": [
    {
     "data": {
      "text/plain": [
       "0.8390065041778025"
      ]
     },
     "execution_count": 35,
     "metadata": {},
     "output_type": "execute_result"
    }
   ],
   "source": [
    "191.20706528260868/(0.653*349)"
   ]
  },
  {
   "cell_type": "code",
   "execution_count": 38,
   "id": "60562a18",
   "metadata": {},
   "outputs": [
    {
     "data": {
      "text/plain": [
       "9.819270365"
      ]
     },
     "execution_count": 38,
     "metadata": {},
     "output_type": "execute_result"
    }
   ],
   "source": [
    "np.sum(X1**2)"
   ]
  },
  {
   "cell_type": "code",
   "execution_count": 39,
   "id": "370a63a3",
   "metadata": {},
   "outputs": [
    {
     "data": {
      "text/plain": [
       "447.87059914099837"
      ]
     },
     "execution_count": 39,
     "metadata": {},
     "output_type": "execute_result"
    }
   ],
   "source": [
    "4397.762501499999/9.819270365"
   ]
  },
  {
   "cell_type": "code",
   "execution_count": 40,
   "id": "297bfd98",
   "metadata": {},
   "outputs": [],
   "source": [
    "Xs = np.array([0.0339, 0.0423, 0.213, 0.257, 0.273, 0.273, 0.450, 0.503, 0.503, \\\n",
    "0.637, 0.805, 0.904, 0.904, 0.910, 0.910, 1.02, 1.11, 1.11, 1.41, \\\n",
    "1.72, 2.03, 2.02, 2.02, 2.02])"
   ]
  },
  {
   "cell_type": "code",
   "execution_count": 41,
   "id": "8a46c67f",
   "metadata": {},
   "outputs": [],
   "source": [
    "Ys = np.array([-19.3, 30.4, 38.7, 5.52, -33.1, -77.3, 398.0, 406.0, 436.0, 320.0, 373.0, \\\n",
    "93.9, 210.0, 423.0, 594.0, 829.0, 718.0, 561.0, 608.0, 1.04E3, 1.10E3, \\\n",
    "840.0, 801.0, 519.0])"
   ]
  },
  {
   "cell_type": "code",
   "execution_count": 42,
   "id": "c5fbc676",
   "metadata": {},
   "outputs": [],
   "source": [
    "X_mean=np.mean(Xs)"
   ]
  },
  {
   "cell_type": "code",
   "execution_count": 43,
   "id": "a98f6bc7",
   "metadata": {},
   "outputs": [],
   "source": [
    "Y_mean=np.mean(Ys)"
   ]
  },
  {
   "cell_type": "code",
   "execution_count": 44,
   "id": "81e42b08",
   "metadata": {},
   "outputs": [
    {
     "data": {
      "text/plain": [
       "0.9199250000000001"
      ]
     },
     "execution_count": 44,
     "metadata": {},
     "output_type": "execute_result"
    }
   ],
   "source": [
    "X_mean"
   ]
  },
  {
   "cell_type": "code",
   "execution_count": 45,
   "id": "f85b1918",
   "metadata": {},
   "outputs": [
    {
     "data": {
      "text/plain": [
       "425.6175"
      ]
     },
     "execution_count": 45,
     "metadata": {},
     "output_type": "execute_result"
    }
   ],
   "source": [
    "Y_mean"
   ]
  },
  {
   "cell_type": "code",
   "execution_count": 46,
   "id": "96a3500e",
   "metadata": {},
   "outputs": [
    {
     "data": {
      "text/plain": [
       "13.610139085217043"
      ]
     },
     "execution_count": 46,
     "metadata": {},
     "output_type": "execute_result"
    }
   ],
   "source": [
    "425.6175-(0.9199250000000001*447.87059914099837)"
   ]
  },
  {
   "cell_type": "code",
   "execution_count": 47,
   "id": "c40d63ff",
   "metadata": {},
   "outputs": [],
   "source": [
    "Xs = np.array([ 0.387, 0.723, 1.00, 1.52, 5.20, 9.54, 19.2, 30.1, 39.5 ])\n",
    "\n",
    "Ys = np.array([ 0.241, 0.615, 1.00, 1.88, 11.9, 29.5, 84.0, 165.0, 248 ])"
   ]
  },
  {
   "cell_type": "code",
   "execution_count": 48,
   "id": "658332a3",
   "metadata": {},
   "outputs": [],
   "source": [
    "X_mean=np.mean(Xs)"
   ]
  },
  {
   "cell_type": "code",
   "execution_count": 49,
   "id": "d9ce6517",
   "metadata": {},
   "outputs": [],
   "source": [
    "Y_mean=np.mean(Ys)"
   ]
  },
  {
   "cell_type": "code",
   "execution_count": 50,
   "id": "d78bad78",
   "metadata": {},
   "outputs": [
    {
     "data": {
      "text/plain": [
       "11.907777777777776"
      ]
     },
     "execution_count": 50,
     "metadata": {},
     "output_type": "execute_result"
    }
   ],
   "source": [
    "X_mean"
   ]
  },
  {
   "cell_type": "code",
   "execution_count": 51,
   "id": "1e67805c",
   "metadata": {},
   "outputs": [
    {
     "data": {
      "text/plain": [
       "60.23733333333333"
      ]
     },
     "execution_count": 51,
     "metadata": {},
     "output_type": "execute_result"
    }
   ],
   "source": [
    "Y_mean"
   ]
  },
  {
   "cell_type": "code",
   "execution_count": 52,
   "id": "ad2fea9c",
   "metadata": {},
   "outputs": [
    {
     "data": {
      "text/plain": [
       "2.1316282072803006e-14"
      ]
     },
     "execution_count": 52,
     "metadata": {},
     "output_type": "execute_result"
    }
   ],
   "source": [
    "np.sum(Xs-X_mean)"
   ]
  },
  {
   "cell_type": "code",
   "execution_count": 54,
   "id": "7fa986ea",
   "metadata": {},
   "outputs": [
    {
     "data": {
      "text/plain": [
       "array([-59.99633333, -59.62233333, -59.23733333, -58.35733333,\n",
       "       -48.33733333, -30.73733333,  23.76266667, 104.76266667,\n",
       "       187.76266667])"
      ]
     },
     "execution_count": 54,
     "metadata": {},
     "output_type": "execute_result"
    }
   ],
   "source": [
    "Ys-Y_mean"
   ]
  },
  {
   "cell_type": "code",
   "execution_count": 55,
   "id": "ee279957",
   "metadata": {},
   "outputs": [
    {
     "data": {
      "text/plain": [
       "0.0"
      ]
     },
     "execution_count": 55,
     "metadata": {},
     "output_type": "execute_result"
    }
   ],
   "source": [
    "np.sum(Ys-Y_mean)"
   ]
  },
  {
   "cell_type": "code",
   "execution_count": 1,
   "id": "a612bb7c",
   "metadata": {},
   "outputs": [
    {
     "name": "stdout",
     "output_type": "stream",
     "text": [
      "multiple\n"
     ]
    }
   ],
   "source": [
    "a = 10\n",
    "b = 20 \n",
    "multiple = a*b\n",
    "print(\"multiple\")"
   ]
  },
  {
   "cell_type": "code",
   "execution_count": 4,
   "id": "4a29596d",
   "metadata": {},
   "outputs": [
    {
     "name": "stdout",
     "output_type": "stream",
     "text": [
      "abcd\n"
     ]
    }
   ],
   "source": [
    "x = 10\n",
    "x = \"abcd\"\n",
    "print(x)"
   ]
  },
  {
   "cell_type": "code",
   "execution_count": 5,
   "id": "b286377d",
   "metadata": {},
   "outputs": [],
   "source": [
    "a = 10\n",
    "id1 = id(a)\n",
    "b = a + 2-2\n",
    "id2 = id(b)"
   ]
  },
  {
   "cell_type": "code",
   "execution_count": 6,
   "id": "da819108",
   "metadata": {},
   "outputs": [
    {
     "data": {
      "text/plain": [
       "1546035685968"
      ]
     },
     "execution_count": 6,
     "metadata": {},
     "output_type": "execute_result"
    }
   ],
   "source": [
    "id1"
   ]
  },
  {
   "cell_type": "code",
   "execution_count": 7,
   "id": "52dd4c11",
   "metadata": {},
   "outputs": [
    {
     "data": {
      "text/plain": [
       "1546035685968"
      ]
     },
     "execution_count": 7,
     "metadata": {},
     "output_type": "execute_result"
    }
   ],
   "source": [
    "id2"
   ]
  },
  {
   "cell_type": "code",
   "execution_count": 8,
   "id": "27fadfa9",
   "metadata": {},
   "outputs": [
    {
     "name": "stdout",
     "output_type": "stream",
     "text": [
      "1\n"
     ]
    }
   ],
   "source": [
    "print(17//10)"
   ]
  },
  {
   "cell_type": "code",
   "execution_count": 9,
   "id": "19e9d2ee",
   "metadata": {},
   "outputs": [
    {
     "name": "stdout",
     "output_type": "stream",
     "text": [
      "40\n",
      "57\n",
      "4057\n"
     ]
    }
   ],
   "source": [
    "a = input()\n",
    "b = input()\n",
    "C = a+b\n",
    "print(C)"
   ]
  },
  {
   "cell_type": "code",
   "execution_count": 11,
   "id": "cee42c3d",
   "metadata": {},
   "outputs": [
    {
     "name": "stdout",
     "output_type": "stream",
     "text": [
      "Hello\n",
      "Hi\n"
     ]
    }
   ],
   "source": [
    "x = 5\n",
    "if x < 6:\n",
    "    print(\"Hello\")\n",
    "if x == 5:\n",
    "    print(\"Hi\")\n",
    "else:\n",
    "    print(\"Hey\")"
   ]
  },
  {
   "cell_type": "code",
   "execution_count": 12,
   "id": "7328bcb6",
   "metadata": {},
   "outputs": [
    {
     "name": "stdout",
     "output_type": "stream",
     "text": [
      "B\n"
     ]
    }
   ],
   "source": [
    " if (10 < 0) and (0 < -10):\n",
    "     print(\"A\")\n",
    "\n",
    " elif (10 > 0) or False:\n",
    "     print(\"B\")\n",
    "\n",
    " else:\n",
    "     print(\"C\")"
   ]
  },
  {
   "cell_type": "code",
   "execution_count": 13,
   "id": "a12e07e8",
   "metadata": {},
   "outputs": [
    {
     "name": "stdout",
     "output_type": "stream",
     "text": [
      "B\n"
     ]
    }
   ],
   "source": [
    "if True or True:\n",
    "    if False and True or False:\n",
    "        print('A')\n",
    "    elif False and False or True and True:\n",
    "       print('B')\n",
    "    else:\n",
    "      print('C')\n",
    "else:\n",
    "     print('D')"
   ]
  },
  {
   "cell_type": "code",
   "execution_count": 1,
   "id": "0d22190f",
   "metadata": {},
   "outputs": [
    {
     "ename": "NameError",
     "evalue": "name 'feature_matrix' is not defined",
     "output_type": "error",
     "traceback": [
      "\u001b[1;31m---------------------------------------------------------------------------\u001b[0m",
      "\u001b[1;31mNameError\u001b[0m                                 Traceback (most recent call last)",
      "Input \u001b[1;32mIn [1]\u001b[0m, in \u001b[0;36m<cell line: 23>\u001b[1;34m()\u001b[0m\n\u001b[0;32m      1\u001b[0m \u001b[38;5;28;01mdef\u001b[39;00m \u001b[38;5;21maverage_perceptron\u001b[39m(feature_matrix, labels, T):\n\u001b[0;32m      2\u001b[0m  \u001b[38;5;124;03m\"\"\"\u001b[39;00m\n\u001b[0;32m      3\u001b[0m \u001b[38;5;124;03m Runs the average perceptron algorithm on a given set of data. Runs T\u001b[39;00m\n\u001b[0;32m      4\u001b[0m \u001b[38;5;124;03m iterations through the data set, there is no need to worry about\u001b[39;00m\n\u001b[1;32m   (...)\u001b[0m\n\u001b[0;32m     21\u001b[0m \u001b[38;5;124;03m find a sum and divide.\u001b[39;00m\n\u001b[0;32m     22\u001b[0m \u001b[38;5;124;03m \"\"\"\u001b[39;00m\n\u001b[1;32m---> 23\u001b[0m (nsamples, nfeatures) \u001b[38;5;241m=\u001b[39m \u001b[43mfeature_matrix\u001b[49m\u001b[38;5;241m.\u001b[39mshape\n\u001b[0;32m     24\u001b[0m theta \u001b[38;5;241m=\u001b[39m np\u001b[38;5;241m.\u001b[39mzeros(nfeatures)\n\u001b[0;32m     25\u001b[0m theta_sum \u001b[38;5;241m=\u001b[39m np\u001b[38;5;241m.\u001b[39mzeros(nfeatures)\n",
      "\u001b[1;31mNameError\u001b[0m: name 'feature_matrix' is not defined"
     ]
    }
   ],
   "source": [
    "def average_perceptron(feature_matrix, labels, T):\n",
    "    (nsamples, nfeatures) = feature_matrix.shape\n",
    "    theta = np.zeros(nfeatures)\n",
    "    theta_sum = np.zeros(nfeatures)\n",
    "    theta_0 = 0.0\n",
    "    theta_0_sum = 0.0\n",
    "    for t in range(T):\n",
    "        for i in get_order(nsamples):\n",
    "            theta, theta_0 = perceptron_single_step_update(feature_matrix[i], labels[i], theta, theta_0)\n",
    "        theta_sum += theta\n",
    "        theta_0_sum += theta_0\n",
    "    return (theta_sum / (nsamples * T), theta_0_sum / (nsamples * T))"
   ]
  },
  {
   "cell_type": "code",
   "execution_count": null,
   "id": "28f9cebc",
   "metadata": {},
   "outputs": [],
   "source": [
    "def classify(feature_matrix, theta, theta_0):\n",
    "    (nsamples, nfeatures) = feature_matrix.shape\n",
    "    predictions = np.zeros(nsamples)\n",
    "    for i in range(nsamples):\n",
    "        feature_vector = feature_matrix[i]\n",
    "        prediction = np.dot(theta, feature_vector) + theta_0\n",
    "        if (prediction > 0):\n",
    "            predictions[i] = 1\n",
    "        else:\n",
    "            predictions[i] = -1\n",
    "    return predictions"
   ]
  }
 ],
 "metadata": {
  "kernelspec": {
   "display_name": "Python 3 (ipykernel)",
   "language": "python",
   "name": "python3"
  },
  "language_info": {
   "codemirror_mode": {
    "name": "ipython",
    "version": 3
   },
   "file_extension": ".py",
   "mimetype": "text/x-python",
   "name": "python",
   "nbconvert_exporter": "python",
   "pygments_lexer": "ipython3",
   "version": "3.9.12"
  }
 },
 "nbformat": 4,
 "nbformat_minor": 5
}
