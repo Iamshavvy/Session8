{
 "cells": [
  {
   "cell_type": "code",
   "execution_count": 26,
   "id": "e1e2f29a",
   "metadata": {},
   "outputs": [
    {
     "name": "stdout",
     "output_type": "stream",
     "text": [
      "{-1: 0, 2: 0}\n",
      "2 -1\n",
      "2 -1\n",
      "-1 2\n"
     ]
    }
   ],
   "source": [
    "def twosum(arr,target,n):\n",
    "    dic={}\n",
    "    for ele in arr:\n",
    "        dic.update(dict.fromkeys([ele],0))\n",
    "    print(dic)\n",
    "    \n",
    "    for ele in arr:\n",
    "        if dic.get(target-ele):\n",
    "            print(ele,target-ele)\n",
    "            dic[ele]=1\n",
    "            #print(dic)\n",
    "        else:\n",
    "            \n",
    "            dic[ele]=1\n",
    "            #print(dic)\n",
    "    #print(dic)\n",
    "\n",
    "arr=[-1,-1,2,2,-1]\n",
    "n=len(arr)\n",
    "target=1\n",
    "twosum(arr,target,n)\n"
   ]
  }
 ],
 "metadata": {
  "kernelspec": {
   "display_name": "Python 3 (ipykernel)",
   "language": "python",
   "name": "python3"
  },
  "language_info": {
   "codemirror_mode": {
    "name": "ipython",
    "version": 3
   },
   "file_extension": ".py",
   "mimetype": "text/x-python",
   "name": "python",
   "nbconvert_exporter": "python",
   "pygments_lexer": "ipython3",
   "version": "3.9.12"
  }
 },
 "nbformat": 4,
 "nbformat_minor": 5
}
